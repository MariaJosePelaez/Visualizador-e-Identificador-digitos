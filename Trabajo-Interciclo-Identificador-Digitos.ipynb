{
 "cells": [
  {
   "cell_type": "markdown",
   "metadata": {},
   "source": [
    "##  SALESIAN POLYTECHNIC UNIVERSITY \n",
    "\n",
    "**Members:** Pedro Bermeo, María José Peláez\n",
    "\n",
    "**Subject:** Inteligencia Artificial II"
   ]
  },
  {
   "cell_type": "markdown",
   "metadata": {},
   "source": [
    "### Digit Viewer and Identifier\n",
    "\n",
    "Below is a detailed description of the process that was used to develop the digitizer and the results that were obtained."
   ]
  },
  {
   "cell_type": "markdown",
   "metadata": {},
   "source": [
    "### Explanation Code\n",
    "\n",
    "* The code below allows you to read the corpus with the information of the numbers that you want to display on the screen of the matrix.\n",
    "\n",
    "* The method **generate_indices ()** allows generating the indexes when opening the dataset.\n",
    "* The method **get_digit ()** allows you to obtain the digits of the dataset and then list them in the combobox that is displayed on the screen."
   ]
  },
  {
   "cell_type": "code",
   "execution_count": null,
   "metadata": {},
   "outputs": [],
   "source": [
    "import re\n",
    "import itertools\n",
    "\n",
    "class Utilities:\n",
    "    \n",
    "    def __init__(self, path = './corpus/digits-database.data'):\n",
    "        self.path = path\n",
    "        self.regex = re.compile('(0|1){2,}')\n",
    "        self.regexno = re.compile('(\\s)+[0-9]{1}')\n",
    "        \n",
    "    \n",
    "    def generate_indices(self):\n",
    "        _dict = []\n",
    "        with open(self.path, 'r') as _f:\n",
    "            pivote = 0\n",
    "            flag = False\n",
    "            lineno = 0\n",
    "            for line in _f:\n",
    "                if self.regex.match(line)!=None and not flag:\n",
    "                    pivote = lineno\n",
    "                    flag = True\n",
    "                if self.regexno.match(line)!=None and flag:\n",
    "                    _dict.append((int(line.replace(' ','')),pivote,lineno))\n",
    "                    flag = False\n",
    "                lineno += 1\n",
    "            _f.close()\n",
    "            \n",
    "        return _dict\n",
    "\n",
    "    def get_digit(self,_slice, _end):\n",
    "        data = []\n",
    "        with open(self.path, 'r') as _f:\n",
    "            for line in itertools.islice(_f, _slice, _end):\n",
    "                data.append([int(i) for i in line.lstrip().rstrip()])\n",
    "            \n",
    "            _f.close()\n",
    "        return data"
   ]
  },
  {
   "cell_type": "markdown",
   "metadata": {},
   "source": [
    "* The method  **getCodification** allows the information received to be encoded and transformed using OneHotEncoder.\n",
    "\n",
    "* The method **getTraining** allows training the neural network in this case it uses 1000 iterations with the activation **logistic**\n",
    "\n",
    "* Also once the number drawn on the screen is recognized, it is possible to replace the zeros by the ones depending on the number of cells that were used.\n",
    "\n",
    "* Next, we proceed to print the confusion matrix with the result of the precisions and the total average."
   ]
  },
  {
   "cell_type": "code",
   "execution_count": null,
   "metadata": {},
   "outputs": [],
   "source": [
    "\tdef obtenerCodificacion(self):\n",
    "\t\tsalida = self.label_encoder.fit_transform(self.delta)\n",
    "\t\tonehot_encoder = OneHotEncoder(sparse=False)\n",
    "\t\tsalida = salida.reshape(len(salida), 1)\n",
    "\t\tself.onehot_encoded = onehot_encoder.fit_transform(salida)\n",
    "\t\n",
    "\tdef obtenerEntrenamiento(self):\n",
    "\t\n",
    "\t\tx_train, x_test, d_train, d_test = train_test_split(self.datos, self.onehot_encoded, test_size=0.80, random_state=0)\n",
    "\t\tmlp = MLPClassifier(solver = 'lbfgs', activation='logistic', verbose=True, alpha=1e-4, tol=1e-15, max_iter=1000, \\\n",
    "\t\thidden_layer_sizes=(1024, 512, 256, 128, 10))\n",
    "\t\tmlp.fit(self.datos, self.onehot_encoded)\n",
    "\t\t\n",
    "\t\tfor entrada in self.datos:\n",
    "\t\t\tres = mlp.predict(entrada.reshape(1, -1))\n",
    "\t\t\tnum = (np.argmax(res, axis=1)+1).reshape(-1, 1)\n",
    "\n",
    "\t\t\taux = []\n",
    "\t\t\tmatriz = []\n",
    "\t\t\tfor i in range(32):\n",
    "\t\t\t\tfor j in range(i * 32, (i + 1) * 32):\n",
    "\t\t\t\t\taux.append(entrada[j])\n",
    "\t\t\t\tmatriz.append(aux)\n",
    "\t\t\t\taux = []\n",
    "\n",
    "\t\t\tfor i in range(32):\n",
    "\t\t\t\tprint(str(matriz[i]).replace(', ', ''))\n",
    "\t\t\tprint(res, '=>',int(num[0] - 1))\n",
    "\n",
    "\t\tprediccion = (np.argmax(mlp.predict(x_test), axis = 1) + 1).reshape(-1, 1)\n",
    "\t\tprint('Matriz de Confusion\\n')\n",
    "\t\tmatriz = confusion_matrix((np.argmax(d_test, axis = 1) + 1).reshape(-1, 1), prediccion)\n",
    "\t\tprint(matriz)\n",
    "\t\tprint('\\n')\n",
    "\t\tprint(classification_report((np.argmax(d_test, axis = 1) + 1).reshape(-1, 1), prediccion))"
   ]
  },
  {
   "cell_type": "markdown",
   "metadata": {},
   "source": [
    "* The method shown below allows you to load the dataset, which we previously read, obtaining each of the digits and displaying them on the screen in order to make the corresponding selection and that the recognition can be observed on the screen."
   ]
  },
  {
   "cell_type": "code",
   "execution_count": null,
   "metadata": {},
   "outputs": [],
   "source": [
    "def cargaDatos(self, evt):\n",
    "\t\tself.renovar()\n",
    "\t\t_id = [int(i) for i in (str(self.cbxData.get()).replace(')','').replace(' ','').replace('(','')).split(',')]\n",
    "\t\t\n",
    "\t\tdata = self.utilities.get_digit(_id[1],_id[2])\n",
    "\t\tfor i in range(len(data)):\n",
    "\t\t\tfor j in range(len(data[i])):\n",
    "\t\t\t\tif(data[i][j] == 1):\n",
    "\t\t\t\t\tself.seleccionar(j, i)"
   ]
  },
  {
   "cell_type": "markdown",
   "metadata": {},
   "source": [
    "1. The display interface is presented below:\n",
    "    \n",
    " ![Texto Alternativo](visualizador.png) \n"
   ]
  },
  {
   "cell_type": "markdown",
   "metadata": {},
   "source": [
    "2. By clicking on the button called **Training** the function that allows to perform is the training of the Neural network and allows to observe in console the training result and the confusion matrix.\n",
    "\n",
    "**Iterations**\n",
    "\n",
    "![Texto Alternativo](b.png) \n",
    "\n",
    "**Confusion matrix**\n",
    "\n",
    "![Texto Alternativo](a.png) \n",
    "\n",
    "Below you can see the table with all the precisions and the average of these.\n",
    "\n",
    "![Texto Alternativo](d.png)\n",
    "\n",
    "3. Clicking on the button labeled **New** allows you to clean the matrix to redraw a number.\n",
    "\n",
    "4. Clicking the button called **Draw Number** allows once a number has been drawn on the screen to obtain the prediction and allows me to obtain which number is the one that draws that through the training that the neural network had for that is more precise."
   ]
  },
  {
   "cell_type": "markdown",
   "metadata": {},
   "source": [
    "### Results:\n",
    "\n",
    "* We are going to draw the number one in the matrix and we will observe the result that the prediction of the neural network returns us.\n",
    "* The result that was obtained was also one, so the prediction is correct, as seen in the image.\n",
    "\n",
    "![Texto Alternativo](e.png) \n",
    "\n",
    "* It can be seen that in the console the ones represent what was drawn on the screen and the zeros represent the cells that were not used.\n",
    "\n",
    "![Texto Alternativo](c.png) \n",
    "\n",
    "* We are going to draw the number two in the matrix and we will observe the result that the prediction of the neural network returns us.\n",
    "* The result that was obtained was also two, so the prediction is correct, as seen in the image.\n",
    "\n",
    "![Texto Alternativo](img4.png)\n",
    "\n",
    "* We are going to draw the number three in the matrix and we will observe the result that the prediction of the neural network returns us.\n",
    "* The result that was obtained was also three, so the prediction is correct, as seen in the image.\n",
    "\n",
    "![Texto Alternativo](img6.png)\n",
    "\n",
    "* We are going to draw the number four in the matrix and we will observe the result that the prediction of the neural network returns us.\n",
    "* The result that was obtained was also four, so the prediction is correct, as seen in the image.\n",
    "\n",
    "![Texto Alternativo](img2.png)\n",
    "\n",
    "* We are going to draw the number five in the matrix and we will observe the result that the prediction of the neural network returns us.\n",
    "* The result that was obtained was also five, so the prediction is correct, as seen in the image.\n",
    "\n",
    "![Texto Alternativo](img1.png)\n",
    "\n",
    "* We are going to draw the number six in the matrix and we will observe the result that the prediction of the neural network returns us.\n",
    "* The result that was obtained was also six, so the prediction is correct, as seen in the image.\n",
    "\n",
    "![Texto Alternativo](img7.png)\n",
    "\n",
    "* We are going to draw the number seven in the matrix and we will observe the result that the prediction of the neural network returns us.\n",
    "* The result that was obtained was also seven, so the prediction is correct, as seen in the image.\n",
    "\n",
    "![Texto Alternativo](img5.png)\n",
    "\n",
    "* We are going to draw the number nine in the matrix and we will observe the result that the prediction of the neural network returns us.\n",
    "* The result that was obtained was also nine, so the prediction is correct, as seen in the image.\n",
    "\n",
    "![Texto Alternativo](img3.png)\n",
    "\n",
    "\n",
    "* The result that is displayed next is the reading of the dataset, which was read the data and the corresponding number of the dataset that we have selected through the combobox is displayed on the screen.\n",
    "\n",
    "![Texto Alternativo](f.png)"
   ]
  },
  {
   "cell_type": "markdown",
   "metadata": {},
   "source": [
    "[Link of Video](https://drive.google.com/open?id=1JLg8_MTpUZIlgEfOdx6VQx1-ib4rC7_v)\n",
    "    \n",
    "\n",
    "    \n",
    "    "
   ]
  }
 ],
 "metadata": {
  "kernelspec": {
   "display_name": "python 3.7-simulacion",
   "language": "python",
   "name": "simulacion"
  },
  "language_info": {
   "codemirror_mode": {
    "name": "ipython",
    "version": 3
   },
   "file_extension": ".py",
   "mimetype": "text/x-python",
   "name": "python",
   "nbconvert_exporter": "python",
   "pygments_lexer": "ipython3",
   "version": "3.7.3"
  }
 },
 "nbformat": 4,
 "nbformat_minor": 2
}
