{
 "cells": [
  {
   "cell_type": "markdown",
   "metadata": {},
   "source": [
    "## UNIVERSIDAD POLITECNICA SALESIANA\n",
    "\n",
    "**Integrantes:** Pedro Bermeo, María José Peláez\n",
    "\n",
    "**Asignatura:** Inteligencia Artificial II"
   ]
  },
  {
   "cell_type": "markdown",
   "metadata": {},
   "source": [
    "### Visualizador e Identificador de Digitos\n",
    "\n",
    "A continuación se detallará el proceso que se tuvo para el desarrollo del visualizador de digitos y los resultados \n",
    "que se obtuvieron."
   ]
  },
  {
   "cell_type": "markdown",
   "metadata": {},
   "source": [
    "### Explicación Código\n",
    "\n",
    "* El código a continuación permite leer el corpus con la información de los números que se pretende visualizar en la pantalla de la matriz.\n",
    "\n",
    "* El método **generate_indices()** permite generar los indices al abrir el dataset.\n",
    "* El método **get_digit()** permite obtener los digitos del dataset para posteriormente listarlos en el combobox que se visualiza en la pantalla."
   ]
  },
  {
   "cell_type": "code",
   "execution_count": null,
   "metadata": {},
   "outputs": [],
   "source": [
    "import re\n",
    "import itertools\n",
    "\n",
    "class Utilities:\n",
    "    \n",
    "    def __init__(self, path = './corpus/digits-database.data'):\n",
    "        self.path = path\n",
    "        self.regex = re.compile('(0|1){2,}')\n",
    "        self.regexno = re.compile('(\\s)+[0-9]{1}')\n",
    "        \n",
    "    \n",
    "    def generate_indices(self):\n",
    "        _dict = []\n",
    "        with open(self.path, 'r') as _f:\n",
    "            pivote = 0\n",
    "            flag = False\n",
    "            lineno = 0\n",
    "            for line in _f:\n",
    "                if self.regex.match(line)!=None and not flag:\n",
    "                    pivote = lineno\n",
    "                    flag = True\n",
    "                if self.regexno.match(line)!=None and flag:\n",
    "                    _dict.append((int(line.replace(' ','')),pivote,lineno))\n",
    "                    flag = False\n",
    "                lineno += 1\n",
    "            _f.close()\n",
    "            \n",
    "        return _dict\n",
    "\n",
    "    def get_digit(self,_slice, _end):\n",
    "        data = []\n",
    "        with open(self.path, 'r') as _f:\n",
    "            for line in itertools.islice(_f, _slice, _end):\n",
    "                data.append([int(i) for i in line.lstrip().rstrip()])\n",
    "            \n",
    "            _f.close()\n",
    "        return data"
   ]
  },
  {
   "cell_type": "markdown",
   "metadata": {},
   "source": [
    "* El método **obtenerCodificacion** permite codificar y transformar mediante OneHotEncoder la información recibida.\n",
    "\n",
    "* El método **obtenerEntrenamiento** permite entrenar a la red neuronal en este caso se utiliza 1000 iteraciones con la activacion **logistic**\n",
    "\n",
    "* También una vez reconocido el número dibujado en pantalla permite reemplazar los ceros por los unos dependiendo al número de celdas que se utilizaron.\n",
    "\n",
    "* Posteriomente se procede a imprimir la matriz de confusión con el resultado de las precisiones y el promedio total."
   ]
  },
  {
   "cell_type": "code",
   "execution_count": null,
   "metadata": {},
   "outputs": [],
   "source": [
    "\tdef obtenerCodificacion(self):\n",
    "\t\tsalida = self.label_encoder.fit_transform(self.delta)\n",
    "\t\tonehot_encoder = OneHotEncoder(sparse=False)\n",
    "\t\tsalida = salida.reshape(len(salida), 1)\n",
    "\t\tself.onehot_encoded = onehot_encoder.fit_transform(salida)\n",
    "\t\n",
    "\tdef obtenerEntrenamiento(self):\n",
    "\t\n",
    "\t\tx_train, x_test, d_train, d_test = train_test_split(self.datos, self.onehot_encoded, test_size=0.80, random_state=0)\n",
    "\t\tmlp = MLPClassifier(solver = 'lbfgs', activation='logistic', verbose=True, alpha=1e-4, tol=1e-15, max_iter=1000, \\\n",
    "\t\thidden_layer_sizes=(1024, 512, 256, 128, 10))\n",
    "\t\tmlp.fit(self.datos, self.onehot_encoded)\n",
    "\t\t\n",
    "\t\tfor entrada in self.datos:\n",
    "\t\t\tres = mlp.predict(entrada.reshape(1, -1))\n",
    "\t\t\tnum = (np.argmax(res, axis=1)+1).reshape(-1, 1)\n",
    "\n",
    "\t\t\taux = []\n",
    "\t\t\tmatriz = []\n",
    "\t\t\tfor i in range(32):\n",
    "\t\t\t\tfor j in range(i * 32, (i + 1) * 32):\n",
    "\t\t\t\t\taux.append(entrada[j])\n",
    "\t\t\t\tmatriz.append(aux)\n",
    "\t\t\t\taux = []\n",
    "\n",
    "\t\t\tfor i in range(32):\n",
    "\t\t\t\tprint(str(matriz[i]).replace(', ', ''))\n",
    "\t\t\tprint(res, '=>',int(num[0] - 1))\n",
    "\n",
    "\t\tprediccion = (np.argmax(mlp.predict(x_test), axis = 1) + 1).reshape(-1, 1)\n",
    "\t\tprint('Matriz de Confusion\\n')\n",
    "\t\tmatriz = confusion_matrix((np.argmax(d_test, axis = 1) + 1).reshape(-1, 1), prediccion)\n",
    "\t\tprint(matriz)\n",
    "\t\tprint('\\n')\n",
    "\t\tprint(classification_report((np.argmax(d_test, axis = 1) + 1).reshape(-1, 1), prediccion))"
   ]
  },
  {
   "cell_type": "markdown",
   "metadata": {},
   "source": [
    "* El método que se visualiza a continuación permite cargar el dataset, el cual realizamos la lectura anteriormente, obteniendo cada uno de los dígitos y visualizandolos en pantalla para poder realizar la selección correspondiente y que se pueda observar en pantalla el reconocimiento."
   ]
  },
  {
   "cell_type": "code",
   "execution_count": null,
   "metadata": {},
   "outputs": [],
   "source": [
    "def cargaDatos(self, evt):\n",
    "\t\tself.renovar()\n",
    "\t\t_id = [int(i) for i in (str(self.cbxData.get()).replace(')','').replace(' ','').replace('(','')).split(',')]\n",
    "\t\t\n",
    "\t\tdata = self.utilities.get_digit(_id[1],_id[2])\n",
    "\t\tfor i in range(len(data)):\n",
    "\t\t\tfor j in range(len(data[i])):\n",
    "\t\t\t\tif(data[i][j] == 1):\n",
    "\t\t\t\t\tself.seleccionar(j, i)"
   ]
  },
  {
   "cell_type": "markdown",
   "metadata": {},
   "source": [
    "1. La interfaz del visualizador se presenta a continuación:\n",
    "    \n",
    " ![Texto Alternativo](visualizador.png) \n"
   ]
  },
  {
   "cell_type": "markdown",
   "metadata": {},
   "source": [
    "2. Al hacer clic en el botón denominado **Entrenamiento** la función que permite realizar es el entrenamiento de la \n",
    "red Neuronal y permite observar en consola el resultado del entrenamiento y la matriz de confusión.\n",
    "\n",
    "**Iteraciones**\n",
    "\n",
    "![Texto Alternativo](b.png) \n",
    "\n",
    "**Matriz de Confusión**\n",
    "\n",
    "![Texto Alternativo](a.png) \n",
    "\n",
    "A continuación se puede observar la tabla con todas las precisiones y el promedio de estas.\n",
    "\n",
    "![Texto Alternativo](d.png) \n",
    "\n",
    "3. Al hacer clic en el botón denominado **Nuevo** permite limpiar la matriz para volver a dibujar un número.\n",
    "\n",
    "4. Al hacer clic en el botón denominado **Dibujar Numero** permite una vez que se haya dibujado un número en la pantalla obtener la predicción y me permita obtener que número es el que dibuje eso mediante el entrenamiento que \n",
    "tuvo la red neuronal para que sea mas preciso."
   ]
  },
  {
   "cell_type": "markdown",
   "metadata": {},
   "source": [
    "### Resultados:\n",
    "\n",
    "* Vamos a dibujar en la matriz el número uno y observaremos el resultado que nos devuelve la predicción de la red neuronal.\n",
    "* El resultado que se obtuvo también fue uno, entonces la predicción es correcta, como se observa en la imagen.\n",
    "\n",
    "![Texto Alternativo](e.png) \n",
    "\n",
    "* Se puede observar que en la consola los unos representa lo que se dibujó en pantalla y los ceros representa las celdas que no fueron utilizadas.\n",
    "\n",
    "![Texto Alternativo](c.png) \n",
    "\n",
    "* El resultado que se visualiza a continuación es de la lectura del dataset, el cual se hizo la lectura de los datos y se visualiza en pantalla el número que corresponde del dataset que hayamos seleccionado mediante el combobox.\n",
    "\n",
    "![Texto Alternativo](f.png) \n"
   ]
  }
 ],
 "metadata": {
  "kernelspec": {
   "display_name": "python 3.7-simulacion",
   "language": "python",
   "name": "simulacion"
  },
  "language_info": {
   "codemirror_mode": {
    "name": "ipython",
    "version": 3
   },
   "file_extension": ".py",
   "mimetype": "text/x-python",
   "name": "python",
   "nbconvert_exporter": "python",
   "pygments_lexer": "ipython3",
   "version": "3.7.3"
  }
 },
 "nbformat": 4,
 "nbformat_minor": 2
}
